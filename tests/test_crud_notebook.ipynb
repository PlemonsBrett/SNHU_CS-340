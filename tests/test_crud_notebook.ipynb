{
 "cells": [
  {
   "cell_type": "markdown",
   "metadata": {},
   "source": [
    "# Testing CRUD Operations for Grazioso Salvare Animal Shelter\n",
    "\n",
    "This Jupyter Notebook tests the Create, Read, Update, and Delete functionality of the AnimalShelter class."
   ]
  },
  {
   "cell_type": "markdown",
   "metadata": {},
   "source": [
    "## Import the AnimalShelter module"
   ]
  },
  {
   "cell_type": "code",
   "execution_count": 1,
   "metadata": {},
   "outputs": [
    {
     "name": "stderr",
     "output_type": "stream",
     "text": [
      "c:\\Users\\Brett\\AppData\\Local\\pypoetry\\Cache\\virtualenvs\\grazioso-salvare-osO5MJLM-py3.12\\Lib\\site-packages\\pydantic\\_internal\\_config.py:345: UserWarning: Valid config keys have changed in V2:\n",
      "* 'schema_extra' has been renamed to 'json_schema_extra'\n",
      "  warnings.warn(message, UserWarning)\n",
      "2025-04-07 00:16:15,557 - grazioso.crud - INFO - Successfully connected to MongoDB at localhost:27017\n"
     ]
    },
    {
     "name": "stdout",
     "output_type": "stream",
     "text": [
      "AnimalShelter instance created successfully\n"
     ]
    }
   ],
   "source": [
    "# Import the AnimalShelter class from the grazioso module\n",
    "import os\n",
    "import sys\n",
    "from pprint import pprint\n",
    "\n",
    "# Add the parent directory to the Python path to import our module\n",
    "sys.path.insert(0, os.path.abspath('..'))\n",
    "\n",
    "# Import our modules\n",
    "from grazioso.crud import AnimalShelter\n",
    "from grazioso.models import Animal, AnimalType, OutcomeType, SexType\n",
    "\n",
    "# MongoDB connection parameters\n",
    "USER = 'aacuser'\n",
    "PASS = 'SNHU1234'\n",
    "HOST = 'localhost'\n",
    "PORT = 27017\n",
    "DB = 'AAC'\n",
    "COL = 'animals'\n",
    "\n",
    "# Create an instance of the AnimalShelter class\n",
    "shelter = AnimalShelter(USER, PASS, HOST, PORT, DB, COL)\n",
    "\n",
    "print(\"AnimalShelter instance created successfully\")"
   ]
  },
  {
   "cell_type": "markdown",
   "metadata": {},
   "source": [
    "## Test the Create functionality"
   ]
  },
  {
   "cell_type": "code",
   "execution_count": 2,
   "metadata": {},
   "outputs": [
    {
     "name": "stderr",
     "output_type": "stream",
     "text": [
      "2025-04-07 00:16:32,214 - grazioso.crud - INFO - Document inserted with ID: 67f35fb0cd4c3dfa6ef3a224\n"
     ]
    },
    {
     "name": "stdout",
     "output_type": "stream",
     "text": [
      "Document inserted successfully: True\n"
     ]
    }
   ],
   "source": [
    "# Define a new animal document to insert\n",
    "new_animal = {\n",
    "    \"animal_id\": \"A999999\",\n",
    "    \"name\": \"Test Animal\",\n",
    "    \"date_of_birth\": \"2023-01-01\",\n",
    "    \"outcome_type\": \"Adoption\",\n",
    "    \"animal_type\": \"Dog\",\n",
    "    \"breed\": \"Mixed\",\n",
    "    \"color\": \"Brown\",\n",
    "    \"sex_upon_outcome\": \"Neutered Male\",\n",
    "    \"age_upon_outcome\": \"1 year\",\n",
    "    \"age_upon_outcome_in_weeks\": 52.0,\n",
    "    \"datetime\": \"2023-01-15T00:00:00\",\n",
    "    \"monthyear\": \"January 2023\"\n",
    "}\n",
    "\n",
    "# Test the create method\n",
    "result = shelter.create(new_animal)\n",
    "print(f\"Document inserted successfully: {result}\")"
   ]
  },
  {
   "cell_type": "markdown",
   "metadata": {},
   "source": [
    "## Test the Read functionality"
   ]
  },
  {
   "cell_type": "code",
   "execution_count": 3,
   "metadata": {},
   "outputs": [
    {
     "name": "stderr",
     "output_type": "stream",
     "text": [
      "2025-04-07 00:16:36,596 - grazioso.crud - INFO - Query returned 1 documents\n"
     ]
    },
    {
     "name": "stdout",
     "output_type": "stream",
     "text": [
      "Number of documents found: 1\n",
      "\n",
      "Document details:\n",
      "_id: 67f35fb0cd4c3dfa6ef3a224\n",
      "animal_id: A999999\n",
      "name: Test Animal\n",
      "date_of_birth: 2023-01-01\n",
      "outcome_type: Adoption\n",
      "animal_type: Dog\n",
      "breed: Mixed\n",
      "color: Brown\n",
      "sex_upon_outcome: Neutered Male\n",
      "age_upon_outcome: 1 year\n",
      "age_upon_outcome_in_weeks: 52.0\n",
      "datetime: 2023-01-15T00:00:00\n",
      "monthyear: January 2023\n"
     ]
    }
   ],
   "source": [
    "# Test reading the document we just created\n",
    "query = {\"animal_id\": \"A999999\"}\n",
    "results = shelter.read(query)\n",
    "\n",
    "print(f\"Number of documents found: {len(results)}\")\n",
    "\n",
    "# Print the first document if any were found\n",
    "if len(results) > 0:\n",
    "    print(\"\\nDocument details:\")\n",
    "    for key, value in results[0].items():\n",
    "        print(f\"{key}: {value}\")"
   ]
  },
  {
   "cell_type": "markdown",
   "metadata": {},
   "source": [
    "## Test reading multiple documents"
   ]
  },
  {
   "cell_type": "code",
   "execution_count": 4,
   "metadata": {},
   "outputs": [
    {
     "name": "stderr",
     "output_type": "stream",
     "text": [
      "2025-04-07 00:16:42,100 - grazioso.crud - INFO - Query returned 2540 documents\n"
     ]
    },
    {
     "name": "stdout",
     "output_type": "stream",
     "text": [
      "Number of adopted dogs found: 2540\n",
      "\n",
      "First 5 adopted dogs:\n",
      "\n",
      "Document 1:\n",
      "Animal ID: A716330\n",
      "Name: Frank\n",
      "Breed: Chihuahua Shorthair Mix\n",
      "Color: Brown/White\n",
      "\n",
      "Document 2:\n",
      "Animal ID: A736551\n",
      "Name: *Mia\n",
      "Breed: Labrador Retriever/Australian Cattle Dog\n",
      "Color: Black\n",
      "\n",
      "Document 3:\n",
      "Animal ID: A720214\n",
      "Name: Blessing\n",
      "Breed: Labrador Retriever Mix\n",
      "Color: Red/White\n",
      "\n",
      "Document 4:\n",
      "Animal ID: A721199\n",
      "Name: Belle\n",
      "Breed: Dachshund Wirehair Mix\n",
      "Color: Tan/White\n",
      "\n",
      "Document 5:\n",
      "Animal ID: A742287\n",
      "Name: *Kawhi\n",
      "Breed: Boxer/Bullmastiff\n",
      "Color: Brown Brindle/White\n"
     ]
    }
   ],
   "source": [
    "# Query for all dogs that were adopted\n",
    "query = {\"animal_type\": \"Dog\", \"outcome_type\": \"Adoption\"}\n",
    "results = shelter.read(query)\n",
    "\n",
    "print(f\"Number of adopted dogs found: {len(results)}\")\n",
    "\n",
    "# Print the first 5 documents if any were found\n",
    "if len(results) > 0:\n",
    "    print(\"\\nFirst 5 adopted dogs:\")\n",
    "    for i, doc in enumerate(results[:5]):\n",
    "        print(f\"\\nDocument {i+1}:\")\n",
    "        print(f\"Animal ID: {doc.get('animal_id', 'N/A')}\")\n",
    "        print(f\"Name: {doc.get('name', 'N/A')}\")\n",
    "        print(f\"Breed: {doc.get('breed', 'N/A')}\")\n",
    "        print(f\"Color: {doc.get('color', 'N/A')}\")"
   ]
  },
  {
   "cell_type": "markdown",
   "metadata": {},
   "source": [
    "## Test the Update functionality"
   ]
  },
  {
   "cell_type": "code",
   "execution_count": 5,
   "metadata": {},
   "outputs": [
    {
     "name": "stderr",
     "output_type": "stream",
     "text": [
      "2025-04-07 00:16:48,024 - grazioso.crud - INFO - Modified 1 documents\n",
      "2025-04-07 00:16:48,028 - grazioso.crud - INFO - Query returned 1 documents\n"
     ]
    },
    {
     "name": "stdout",
     "output_type": "stream",
     "text": [
      "Documents updated: 1\n",
      "\n",
      "Updated document details:\n",
      "Name: Updated Test Animal\n",
      "Color: Brown/White\n"
     ]
    }
   ],
   "source": [
    "# Test updating the document we created earlier\n",
    "query = {\"animal_id\": \"A999999\"}\n",
    "update_data = {\"$set\": {\"name\": \"Updated Test Animal\", \"color\": \"Brown/White\"}}\n",
    "\n",
    "# Update the document\n",
    "updated_count = shelter.update(query, update_data)\n",
    "print(f\"Documents updated: {updated_count}\")\n",
    "\n",
    "# Verify the update\n",
    "updated_doc = shelter.read(query)\n",
    "if updated_doc:\n",
    "    print(\"\\nUpdated document details:\")\n",
    "    print(f\"Name: {updated_doc[0].get('name')}\")\n",
    "    print(f\"Color: {updated_doc[0].get('color')}\")"
   ]
  },
  {
   "cell_type": "markdown",
   "metadata": {},
   "source": [
    "## Test updating multiple documents"
   ]
  },
  {
   "cell_type": "code",
   "execution_count": 6,
   "metadata": {},
   "outputs": [
    {
     "name": "stderr",
     "output_type": "stream",
     "text": [
      "2025-04-07 00:16:51,896 - grazioso.crud - INFO - Document inserted with ID: 67f35fc3cd4c3dfa6ef3a225\n",
      "2025-04-07 00:16:51,896 - grazioso.crud - INFO - Document inserted with ID: 67f35fc3cd4c3dfa6ef3a226\n",
      "2025-04-07 00:16:51,897 - grazioso.crud - INFO - Document inserted with ID: 67f35fc3cd4c3dfa6ef3a227\n",
      "2025-04-07 00:16:51,901 - grazioso.crud - INFO - Modified 3 documents\n",
      "2025-04-07 00:16:51,906 - grazioso.crud - INFO - Query returned 3 documents\n"
     ]
    },
    {
     "name": "stdout",
     "output_type": "stream",
     "text": [
      "Test documents created: 3\n",
      "Documents updated: 3\n",
      "\n",
      "Verifying updates:\n",
      "Document 1 has tag: test_batch_update\n",
      "Document 2 has tag: test_batch_update\n",
      "Document 3 has tag: test_batch_update\n"
     ]
    }
   ],
   "source": [
    "# Create a few test documents for batch update\n",
    "test_docs = [\n",
    "    {\n",
    "        \"animal_id\": \"T100001\",\n",
    "        \"name\": \"Batch Test 1\",\n",
    "        \"animal_type\": \"Dog\",\n",
    "        \"breed\": \"Test Breed\",\n",
    "        \"color\": \"White\",\n",
    "        \"test_group\": \"batch_update\"\n",
    "    },\n",
    "    {\n",
    "        \"animal_id\": \"T100002\",\n",
    "        \"name\": \"Batch Test 2\",\n",
    "        \"animal_type\": \"Dog\",\n",
    "        \"breed\": \"Test Breed\",\n",
    "        \"color\": \"Black\",\n",
    "        \"test_group\": \"batch_update\"\n",
    "    },\n",
    "    {\n",
    "        \"animal_id\": \"T100003\",\n",
    "        \"name\": \"Batch Test 3\",\n",
    "        \"animal_type\": \"Dog\",\n",
    "        \"breed\": \"Test Breed\",\n",
    "        \"color\": \"Brown\",\n",
    "        \"test_group\": \"batch_update\"\n",
    "    }\n",
    "]\n",
    "\n",
    "# Insert test documents\n",
    "for doc in test_docs:\n",
    "    shelter.create(doc)\n",
    "\n",
    "print(f\"Test documents created: {len(test_docs)}\")\n",
    "\n",
    "# Update all test documents in the batch\n",
    "query = {\"test_group\": \"batch_update\"}\n",
    "update_data = {\"$set\": {\"tag\": \"test_batch_update\"}}\n",
    "\n",
    "# Perform batch update\n",
    "updated_count = shelter.update(query, update_data, multi=True)\n",
    "print(f\"Documents updated: {updated_count}\")\n",
    "\n",
    "# Verify the updates\n",
    "updated_docs = shelter.read(query)\n",
    "if updated_docs:\n",
    "    print(\"\\nVerifying updates:\")\n",
    "    for i, doc in enumerate(updated_docs):\n",
    "        print(f\"Document {i+1} has tag: {doc.get('tag')}\")"
   ]
  },
  {
   "cell_type": "markdown",
   "metadata": {},
   "source": [
    "## Test the Delete functionality"
   ]
  },
  {
   "cell_type": "code",
   "execution_count": 7,
   "metadata": {},
   "outputs": [
    {
     "name": "stderr",
     "output_type": "stream",
     "text": [
      "2025-04-07 00:17:01,532 - grazioso.crud - INFO - Deleted 1 documents\n",
      "2025-04-07 00:17:01,536 - grazioso.crud - INFO - Query returned 0 documents\n"
     ]
    },
    {
     "name": "stdout",
     "output_type": "stream",
     "text": [
      "Documents deleted: 1\n",
      "Verification - documents found after deletion: 0\n"
     ]
    }
   ],
   "source": [
    "# Test deleting the document we created earlier\n",
    "query = {\"animal_id\": \"A999999\"}\n",
    "\n",
    "# Delete the document\n",
    "deleted_count = shelter.delete(query)\n",
    "print(f\"Documents deleted: {deleted_count}\")\n",
    "\n",
    "# Verify the deletion\n",
    "results_after_delete = shelter.read(query)\n",
    "print(f\"Verification - documents found after deletion: {len(results_after_delete)}\")"
   ]
  },
  {
   "cell_type": "markdown",
   "metadata": {},
   "source": [
    "## Test deleting multiple documents"
   ]
  },
  {
   "cell_type": "code",
   "execution_count": 8,
   "metadata": {},
   "outputs": [
    {
     "name": "stderr",
     "output_type": "stream",
     "text": [
      "2025-04-07 00:17:07,417 - grazioso.crud - INFO - Deleted 3 documents\n",
      "2025-04-07 00:17:07,422 - grazioso.crud - INFO - Query returned 0 documents\n"
     ]
    },
    {
     "name": "stdout",
     "output_type": "stream",
     "text": [
      "Batch documents deleted: 3\n",
      "Verification - documents found after batch deletion: 0\n"
     ]
    }
   ],
   "source": [
    "# Delete all the test documents we created for batch update\n",
    "query = {\"test_group\": \"batch_update\"}\n",
    "\n",
    "# Perform batch deletion\n",
    "deleted_count = shelter.delete(query, multi=True)\n",
    "print(f\"Batch documents deleted: {deleted_count}\")\n",
    "\n",
    "# Verify the deletion\n",
    "results_after_delete = shelter.read(query)\n",
    "print(f\"Verification - documents found after batch deletion: {len(results_after_delete)}\")"
   ]
  },
  {
   "cell_type": "markdown",
   "metadata": {},
   "source": [
    "## Test handling invalid input"
   ]
  },
  {
   "cell_type": "code",
   "execution_count": 9,
   "metadata": {},
   "outputs": [
    {
     "name": "stderr",
     "output_type": "stream",
     "text": [
      "2025-04-07 00:17:11,437 - grazioso.crud - WARNING - Cannot create empty document or collection not initialized\n",
      "2025-04-07 00:17:11,467 - grazioso.crud - INFO - Query returned 10000 documents\n",
      "2025-04-07 00:17:11,471 - grazioso.crud - INFO - Modified 0 documents\n",
      "2025-04-07 00:17:11,475 - grazioso.crud - INFO - Deleted 0 documents\n"
     ]
    },
    {
     "name": "stdout",
     "output_type": "stream",
     "text": [
      "Create with None data: False\n",
      "Read with empty query: Error\n",
      "Update with invalid query: 0\n",
      "Delete with invalid query: 0\n"
     ]
    }
   ],
   "source": [
    "# Test handling of invalid inputs for all operations\n",
    "\n",
    "# Create with None data\n",
    "create_result = shelter.create(None)\n",
    "print(f\"Create with None data: {create_result}\")\n",
    "\n",
    "# Read with empty query - should return empty list, not error\n",
    "read_result = shelter.read({})\n",
    "print(f\"Read with empty query: {read_result if len(read_result) == 0 else 'Error'}\")\n",
    "\n",
    "# Update with invalid query\n",
    "update_result = shelter.update({\"nonexistent_field\": \"nonexistent_value\"}, {\"$set\": {\"test\": \"test\"}})\n",
    "print(f\"Update with invalid query: {update_result}\")\n",
    "\n",
    "# Delete with invalid query\n",
    "delete_result = shelter.delete({\"nonexistent_field\": \"nonexistent_value\"})\n",
    "print(f\"Delete with invalid query: {delete_result}\")"
   ]
  },
  {
   "cell_type": "markdown",
   "metadata": {},
   "source": [
    "## Clean up and close connection"
   ]
  },
  {
   "cell_type": "code",
   "execution_count": 10,
   "metadata": {},
   "outputs": [
    {
     "name": "stderr",
     "output_type": "stream",
     "text": [
      "2025-04-07 00:17:17,627 - grazioso.crud - INFO - MongoDB connection closed\n"
     ]
    },
    {
     "name": "stdout",
     "output_type": "stream",
     "text": [
      "Connection closed successfully\n"
     ]
    }
   ],
   "source": [
    "# Close the MongoDB connection\n",
    "shelter.close()\n",
    "print(\"Connection closed successfully\")"
   ]
  }
 ],
 "metadata": {
  "kernelspec": {
   "display_name": "grazioso-salvare-osO5MJLM-py3.12",
   "language": "python",
   "name": "python3"
  },
  "language_info": {
   "codemirror_mode": {
    "name": "ipython",
    "version": 3
   },
   "file_extension": ".py",
   "mimetype": "text/x-python",
   "name": "python",
   "nbconvert_exporter": "python",
   "pygments_lexer": "ipython3",
   "version": "3.12.6"
  }
 },
 "nbformat": 4,
 "nbformat_minor": 4
}
