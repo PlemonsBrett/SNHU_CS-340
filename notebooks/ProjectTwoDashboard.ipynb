{
 "cells": [
  {
   "cell_type": "markdown",
   "id": "15096782",
   "metadata": {},
   "source": [
    "# Project Two Dashboard\n",
    "\n",
    "## Setup the Jupyter version of Dash"
   ]
  },
  {
   "cell_type": "code",
   "execution_count": 43,
   "id": "59f25047",
   "metadata": {},
   "outputs": [],
   "source": [
    "import base64\n",
    "\n",
    "# Configure OS routines\n",
    "import os\n",
    "\n",
    "# Configure the necessary Python module imports for dashboard components\n",
    "import dash_leaflet as dl\n",
    "import matplotlib.pyplot as plt\n",
    "\n",
    "# Configure the plotting routines\n",
    "import numpy as np\n",
    "import pandas as pd\n",
    "import plotly.express as px\n",
    "from dash import Dash, dash_table, dcc, html\n",
    "from dash.dependencies import Input, Output, State\n",
    "\n",
    "# Import the AnimalShelter class\n",
    "from grazioso.crud import AnimalShelter\n"
   ]
  },
  {
   "cell_type": "markdown",
   "id": "024a18a6",
   "metadata": {},
   "source": [
    "## Data Manipulation / Model"
   ]
  },
  {
   "cell_type": "markdown",
   "id": "b85d31bf",
   "metadata": {},
   "source": [
    "### Connection details for MongoDB"
   ]
  },
  {
   "cell_type": "code",
   "execution_count": 44,
   "id": "c69c76d2",
   "metadata": {},
   "outputs": [],
   "source": [
    "username = \"aacuser\"\n",
    "password = \"SNHU1234\"\n",
    "host = \"localhost\"\n",
    "port = 27017\n",
    "db_name = \"AAC\"\n",
    "collection_name = \"animals\"\n"
   ]
  },
  {
   "cell_type": "markdown",
   "id": "a29ad103",
   "metadata": {},
   "source": [
    "### Connect to database via CRUD Module"
   ]
  },
  {
   "cell_type": "code",
   "execution_count": 45,
   "id": "a168f4ba",
   "metadata": {},
   "outputs": [
    {
     "name": "stderr",
     "output_type": "stream",
     "text": [
      "2025-04-20 09:21:38,004 - grazioso.crud - INFO - Successfully connected to MongoDB at localhost:27017\n"
     ]
    }
   ],
   "source": [
    "db = AnimalShelter(username, password, host, port, db_name, collection_name)"
   ]
  },
  {
   "cell_type": "markdown",
   "id": "a0540a21",
   "metadata": {},
   "source": [
    "### Define the rescue type filters based on the specifications"
   ]
  },
  {
   "cell_type": "code",
   "execution_count": 46,
   "id": "a32af3f1",
   "metadata": {},
   "outputs": [],
   "source": [
    "rescue_filters = {\n",
    "    \"all\": {\n",
    "        \"animal_type\": \"Dog\"\n",
    "    }, # No filter - show all animals\n",
    "    \"water\": {\n",
    "        \"animal_type\": \"Dog\",\n",
    "        \"breed\": {\"$in\": [\n",
    "            \"Labrador Retriever Mix\",\n",
    "            \"Chesapeake Bay Retriever\",\n",
    "            \"Newfoundland\",\n",
    "        ]},\n",
    "        \"sex_upon_outcome\": \"Intact Female\",\n",
    "        \"age_upon_outcome_in_weeks\": {\"$gte\": 26, \"$lte\": 156},\n",
    "    },\n",
    "    \"mountain\": {\n",
    "        \"animal_type\": \"Dog\", \n",
    "        \"breed\": {\"$in\": [\n",
    "            \"German Shepherd\",\n",
    "            \"Alaskan Malamute\",\n",
    "            \"Old English Sheepdog\",\n",
    "            \"Siberian Husky\",\n",
    "            \"Rottweiler\"\n",
    "        ]},\n",
    "        \"sex_upon_outcome\": \"Intact Male\",\n",
    "        \"age_upon_outcome_in_weeks\": {\"$gte\": 26, \"$lte\": 156}\n",
    "    },\n",
    "    \"disaster\": {\n",
    "        \"animal_type\": \"Dog\", \n",
    "        \"breed\": {\"$in\": [\n",
    "            \"Doberman Pinscher\",\n",
    "            \"German Shepherd\",\n",
    "            \"Golden Retriever\",\n",
    "            \"Bloodhound\",\n",
    "            \"Rottweiler\"\n",
    "        ]},\n",
    "        \"sex_upon_outcome\": \"Intact Male\",\n",
    "        \"age_upon_outcome_in_weeks\": {\"$gte\": 20, \"$lte\": 300}\n",
    "    }\n",
    "}"
   ]
  },
  {
   "cell_type": "markdown",
   "id": "00d6fcfa",
   "metadata": {},
   "source": [
    "### Initial data load - all animals"
   ]
  },
  {
   "cell_type": "code",
   "execution_count": 47,
   "id": "2fdde431",
   "metadata": {},
   "outputs": [
    {
     "name": "stderr",
     "output_type": "stream",
     "text": [
      "2025-04-20 09:21:38,057 - grazioso.crud - INFO - Query returned 10000 documents\n"
     ]
    }
   ],
   "source": [
    "df = pd.DataFrame.from_records(db.read({}))"
   ]
  },
  {
   "cell_type": "markdown",
   "id": "62f36e0e",
   "metadata": {},
   "source": [
    "### For MongoDB v5+, we will receive the `_id` column with an `ObjectID` type. Drop it to avoid issues with the `data_table`"
   ]
  },
  {
   "cell_type": "code",
   "execution_count": 48,
   "id": "3d92195e",
   "metadata": {},
   "outputs": [],
   "source": [
    "if '_id' in df.columns:\n",
    "    df.drop(columns=['_id'], inplace=True)"
   ]
  },
  {
   "cell_type": "markdown",
   "id": "3ec4f512",
   "metadata": {},
   "source": [
    "## Dashboard Layout / View"
   ]
  },
  {
   "cell_type": "code",
   "execution_count": 49,
   "id": "452f0b5d",
   "metadata": {},
   "outputs": [],
   "source": [
    "app = Dash(__name__)"
   ]
  },
  {
   "cell_type": "markdown",
   "id": "7443ce46",
   "metadata": {},
   "source": [
    "### Load the Grazioso Salvare Logo"
   ]
  },
  {
   "cell_type": "code",
   "execution_count": 50,
   "id": "08b74041",
   "metadata": {},
   "outputs": [],
   "source": [
    "try:\n",
    "    image_filename = '../images/grazioso_salvare_logo.png'\n",
    "    encoded_image = base64.b64encode(open(image_filename, 'rb').read()).decode('ascii')\n",
    "except:\n",
    "    # If the image can't be loaded, we'll use a placeholder\n",
    "    encoded_image = None"
   ]
  },
  {
   "cell_type": "markdown",
   "id": "bfdf41a5",
   "metadata": {},
   "source": [
    "#### Define the dashboard layout"
   ]
  },
  {
   "cell_type": "code",
   "execution_count": 51,
   "id": "0919db7b",
   "metadata": {},
   "outputs": [],
   "source": [
    "app.layout = html.Div(\n",
    "    [\n",
    "        # Header row with logo and title\n",
    "        html.Div(\n",
    "            [\n",
    "                # Logo with URL anchor to SNHU (client requirement)\n",
    "                html.A(\n",
    "                    html.Img(\n",
    "                        src=f\"data:image/png;base64,{encoded_image}\"\n",
    "                        if encoded_image\n",
    "                        else None,\n",
    "                        style={\"height\": \"100px\", \"margin-right\": \"20px\"},\n",
    "                    ),\n",
    "                    href=\"https://www.snhu.edu\",\n",
    "                    target=\"_blank\",\n",
    "                )\n",
    "                if encoded_image\n",
    "                else None,\n",
    "                # Dashboard title\n",
    "                html.Div(\n",
    "                    [\n",
    "                        html.H1(\"Grazioso Salvare\", style={\"margin-bottom\": \"0px\"}),\n",
    "                        html.H3(\n",
    "                            \"Search and Rescue Dog Finder\", style={\"margin-top\": \"0px\"}\n",
    "                        ),\n",
    "                        # Unique identifier with your name as required\n",
    "                        html.Div(\n",
    "                            \"Dashboard created by Brett Plemons\",\n",
    "                            style={\"font-style\": \"italic\"},\n",
    "                        ),\n",
    "                    ]\n",
    "                ),\n",
    "            ],\n",
    "            style={\n",
    "                \"display\": \"flex\",\n",
    "                \"align-items\": \"center\",\n",
    "                \"justify-content\": \"center\",\n",
    "            },\n",
    "        ),\n",
    "        html.Hr(),\n",
    "        # Filter options as radio buttons\n",
    "        html.Div(\n",
    "            [\n",
    "                html.Label(\"Filter by Rescue Type:\"),\n",
    "                dcc.RadioItems(\n",
    "                    id=\"filter-type\",\n",
    "                    options=[\n",
    "                        {\"label\": \"All Dogs\", \"value\": \"all\"},\n",
    "                        {\"label\": \"Water Rescue\", \"value\": \"water\"},\n",
    "                        {\"label\": \"Mountain or Wilderness Rescue\", \"value\": \"mountain\"},\n",
    "                        {\n",
    "                            \"label\": \"Disaster Rescue or Individual Tracking\",\n",
    "                            \"value\": \"disaster\",\n",
    "                        },\n",
    "                    ],\n",
    "                    value=\"all\",\n",
    "                    inline=True,\n",
    "                ),\n",
    "            ],\n",
    "            style={\"margin\": \"10px\", \"text-align\": \"center\"},\n",
    "        ),\n",
    "        html.Hr(),\n",
    "        # Interactive data table\n",
    "        html.Div(\n",
    "            [\n",
    "                dash_table.DataTable(\n",
    "                    id=\"datatable-id\",\n",
    "                    columns=[\n",
    "                        {\"name\": i, \"id\": i, \"deletable\": False, \"selectable\": True}\n",
    "                        for i in df.columns\n",
    "                    ],\n",
    "                    data=df.to_dict(\"records\"),\n",
    "                    # Interactive features to make it user-friendly\n",
    "                    editable=False,  # Don't allow editing\n",
    "                    filter_action=\"native\",  # Allow filtering of data by user\n",
    "                    sort_action=\"native\",  # Allow sorting of data by user\n",
    "                    sort_mode=\"multi\",  # Sort across multiple columns\n",
    "                    column_selectable=\"single\",  # Allow selecting columns\n",
    "                    row_selectable=\"single\",  # Allow selecting rows\n",
    "                    row_deletable=False,  # Prevent row deletion\n",
    "                    selected_columns=[],  # Initially, no columns are selected\n",
    "                    selected_rows=[],  # Initially, no rows are selected\n",
    "                    page_action=\"native\",  # All data is passed to the table up-front\n",
    "                    page_current=0,  # Start on first page\n",
    "                    page_size=10,  # Show 10 rows per page\n",
    "                    style_cell={  # Style cells\n",
    "                        \"font-size\": \"12px\",\n",
    "                        \"text-align\": \"left\",\n",
    "                    },\n",
    "                    style_data={  # Style data cells\n",
    "                        \"whiteSpace\": \"normal\",\n",
    "                        \"height\": \"auto\",\n",
    "                    },\n",
    "                    style_header={  # Style header cells\n",
    "                        \"backgroundColor\": \"rgb(30, 30, 30)\",\n",
    "                        \"color\": \"white\",\n",
    "                        \"fontWeight\": \"bold\",\n",
    "                    },\n",
    "                    style_data_conditional=[  # Highlight selected rows\n",
    "                        {\n",
    "                            \"if\": {\"row_index\": \"odd\"},\n",
    "                            \"backgroundColor\": \"rgb(248, 248, 248)\",\n",
    "                        }\n",
    "                    ],\n",
    "                )\n",
    "            ],\n",
    "            style={\"margin\": \"10px\"},\n",
    "        ),\n",
    "        html.Br(),\n",
    "        html.Hr(),\n",
    "        # Map and chart container - side by side as specified in requirements\n",
    "        html.Div(\n",
    "            [\n",
    "                # Map container\n",
    "                html.Div(\n",
    "                    [html.H3(\"Location of Selected Animal\"), html.Div(id=\"map-id\")],\n",
    "                    style={\n",
    "                        \"width\": \"49%\",\n",
    "                        \"display\": \"inline-block\",\n",
    "                        \"vertical-align\": \"top\",\n",
    "                    },\n",
    "                ),\n",
    "                # Pie chart container\n",
    "                html.Div(\n",
    "                    [dcc.Graph(id=\"pie-chart\")],\n",
    "                    style={\"width\": \"49%\", \"display\": \"inline-block\", \"margin-top\": \"40px\"},\n",
    "                ),\n",
    "            ]\n",
    "        ),\n",
    "    ]\n",
    ")"
   ]
  },
  {
   "cell_type": "markdown",
   "id": "48c30a4d",
   "metadata": {},
   "source": [
    "## Interaction Between Components / Controller"
   ]
  },
  {
   "cell_type": "markdown",
   "id": "08339f66",
   "metadata": {},
   "source": [
    "#### Callback to update the data table based on the selected filter"
   ]
  },
  {
   "cell_type": "code",
   "execution_count": 52,
   "id": "a80f8abc",
   "metadata": {},
   "outputs": [],
   "source": [
    "@app.callback(\n",
    "    Output('datatable-id', 'data'),\n",
    "    [Input('filter-type', 'value')]\n",
    ")\n",
    "def update_dashboard(filter_type):\n",
    "    \"\"\"\n",
    "    Update the dashboard based on the selected filter type.\n",
    "    \n",
    "    Args:\n",
    "        filter_type: The selected filter type ('all', 'water', 'mountain', 'disaster')\n",
    "        \n",
    "    Returns:\n",
    "        Updated data for the data table\n",
    "    \"\"\"\n",
    "    # Get the filter based on the selected value\n",
    "    selected_filter = rescue_filters[filter_type]\n",
    "    \n",
    "    # Query the database with the selected filter\n",
    "    filtered_results = db.read(selected_filter)\n",
    "    \n",
    "    # Convert results to DataFrame\n",
    "    df_filtered = pd.DataFrame.from_records(filtered_results)\n",
    "    \n",
    "    # Drop the _id column if it exists\n",
    "    if '_id' in df_filtered.columns:\n",
    "        df_filtered.drop(columns=['_id'], inplace=True)\n",
    "    \n",
    "    # Return the filtered data\n",
    "    return df_filtered.to_dict('records')"
   ]
  },
  {
   "cell_type": "markdown",
   "id": "68610461",
   "metadata": {},
   "source": [
    "#### Callback to display the pie chart"
   ]
  },
  {
   "cell_type": "code",
   "execution_count": 53,
   "id": "05f1c18a",
   "metadata": {},
   "outputs": [],
   "source": [
    "@app.callback(\n",
    "    Output('pie-chart', 'figure'),\n",
    "    [Input('datatable-id', \"derived_virtual_data\")]\n",
    ")\n",
    "def update_pie_chart(viewData):\n",
    "    \"\"\"\n",
    "    Update the pie chart based on the filtered data.\n",
    "    \n",
    "    Args:\n",
    "        viewData: The data from the data table\n",
    "        \n",
    "    Returns:\n",
    "        Updated pie chart figure\n",
    "    \"\"\"\n",
    "    if not viewData:\n",
    "        # Return an empty figure for no data\n",
    "        return px.pie(names=['No Data'], values=[1], title='No Data Available')\n",
    "    \n",
    "    # Convert the data to a DataFrame\n",
    "    dff = pd.DataFrame.from_dict(viewData)\n",
    "    \n",
    "    # Create a pie chart showing breed distribution\n",
    "    if 'breed' in dff.columns and len(dff) > 0:\n",
    "        # Group by breed and count occurrences\n",
    "        breed_counts = dff['breed'].value_counts().nlargest(10)  # Top 10 breeds\n",
    "        \n",
    "        fig = px.pie(\n",
    "            names=breed_counts.index,\n",
    "            values=breed_counts.values,\n",
    "            title='Top 10 Dog Breeds'\n",
    "        )\n",
    "        \n",
    "        # Update layout for better appearance\n",
    "        fig.update_layout(margin=dict(l=20, r=20, t=30, b=20))\n",
    "        \n",
    "        # Return the figure directly\n",
    "        return fig\n",
    "    else:\n",
    "        # Return an empty figure with a message\n",
    "        return px.pie(names=['No Breed Data'], values=[1], title='No Breed Data Available')"
   ]
  },
  {
   "cell_type": "markdown",
   "id": "fddb981b",
   "metadata": {},
   "source": [
    "#### Callback to highlight selected cells in the data table"
   ]
  },
  {
   "cell_type": "code",
   "execution_count": 54,
   "id": "fe951c10",
   "metadata": {},
   "outputs": [],
   "source": [
    "\n",
    "@app.callback(\n",
    "    Output('datatable-id', 'style_data_conditional'),\n",
    "    [Input('datatable-id', 'selected_columns')]\n",
    ")\n",
    "def update_styles(selected_columns):\n",
    "    \"\"\"\n",
    "    Highlight selected columns in the data table.\n",
    "    \n",
    "    Args:\n",
    "        selected_columns: List of selected column IDs\n",
    "        \n",
    "    Returns:\n",
    "        Style data for conditional formatting\n",
    "    \"\"\"\n",
    "    return [{\n",
    "        'if': {'column_id': i},\n",
    "        'background_color': '#D2F3FF'\n",
    "    } for i in selected_columns]"
   ]
  },
  {
   "cell_type": "markdown",
   "id": "c08a9f17",
   "metadata": {},
   "source": [
    "#### Callback to update the geolocation map"
   ]
  },
  {
   "cell_type": "code",
   "execution_count": 55,
   "id": "f9b53d78",
   "metadata": {},
   "outputs": [],
   "source": [
    "@app.callback(\n",
    "    Output('map-id', \"children\"),\n",
    "    [Input('datatable-id', \"derived_virtual_data\"),\n",
    "     Input('datatable-id', \"derived_virtual_selected_rows\")]\n",
    ")\n",
    "def update_map(viewData, selected_rows):\n",
    "    \"\"\"\n",
    "    Update the geolocation map based on the selected animal.\n",
    "    \n",
    "    Args:\n",
    "        viewData: The data from the data table\n",
    "        selected_rows: List of indices of selected rows\n",
    "        \n",
    "    Returns:\n",
    "        Updated map component\n",
    "    \"\"\"\n",
    "    if not viewData:\n",
    "        return []\n",
    "    \n",
    "    dff = pd.DataFrame.from_dict(viewData)\n",
    "    \n",
    "    # Default to first row if no row is selected\n",
    "    if selected_rows is None or len(selected_rows) == 0:\n",
    "        row = 0\n",
    "    else:\n",
    "        row = selected_rows[0]\n",
    "    \n",
    "    # Check if we have enough rows to display\n",
    "    if len(dff) <= row:\n",
    "        # Default to Austin, TX coordinates if no data\n",
    "        return [\n",
    "            dl.Map(style={'width': '100%', 'height': '500px'},\n",
    "                  center=[30.75, -97.48], zoom=10, children=[\n",
    "                dl.TileLayer(id=\"base-layer-id\")\n",
    "            ])\n",
    "        ]\n",
    "    \n",
    "    # Extract latitude and longitude for the selected animal\n",
    "    # Default to Austin, TX if the location is missing\n",
    "    lat = dff.iloc[row]['location_lat'] if 'location_lat' in dff.columns and not pd.isna(dff.iloc[row]['location_lat']) else 30.75\n",
    "    lon = dff.iloc[row]['location_long'] if 'location_long' in dff.columns and not pd.isna(dff.iloc[row]['location_long']) else -97.48\n",
    "    \n",
    "    # Get animal details for tooltip and popup\n",
    "    breed = dff.iloc[row]['breed'] if 'breed' in dff.columns else \"Unknown\"\n",
    "    name = dff.iloc[row]['name'] if 'name' in dff.columns and not pd.isna(dff.iloc[row]['name']) else \"Unnamed\"\n",
    "    \n",
    "    return [\n",
    "        dl.Map(style={'width': '100%', 'height': '500px'}, center=[lat, lon], zoom=10, children=[\n",
    "            dl.TileLayer(id=\"base-layer-id\"),\n",
    "            # Marker with tooltip and popup\n",
    "            dl.Marker(position=[lat, lon], children=[\n",
    "                dl.Tooltip(breed),\n",
    "                dl.Popup([\n",
    "                    html.H1(\"Animal Name\"),\n",
    "                    html.P(name)\n",
    "                ])\n",
    "            ])\n",
    "        ])\n",
    "    ]"
   ]
  },
  {
   "cell_type": "markdown",
   "id": "2e4d9164",
   "metadata": {},
   "source": [
    "## Run the Application"
   ]
  },
  {
   "cell_type": "code",
   "execution_count": null,
   "id": "447f07da",
   "metadata": {},
   "outputs": [
    {
     "name": "stdout",
     "output_type": "stream",
     "text": [
      "Dash app running on http://127.0.0.1:8050/\n"
     ]
    },
    {
     "name": "stderr",
     "output_type": "stream",
     "text": [
      "2025-04-20 09:21:41,108 - grazioso.crud - INFO - Query returned 5589 documents\n"
     ]
    }
   ],
   "source": [
    "if __name__ == '__main__':\n",
    "    app.run(debug=True, jupyter_mode=\"external\")"
   ]
  }
 ],
 "metadata": {
  "kernelspec": {
   "display_name": "grazioso-salvare-ZsD8LZJq-py3.12",
   "language": "python",
   "name": "python3"
  },
  "language_info": {
   "codemirror_mode": {
    "name": "ipython",
    "version": 3
   },
   "file_extension": ".py",
   "mimetype": "text/x-python",
   "name": "python",
   "nbconvert_exporter": "python",
   "pygments_lexer": "ipython3",
   "version": "3.12.6"
  }
 },
 "nbformat": 4,
 "nbformat_minor": 5
}
